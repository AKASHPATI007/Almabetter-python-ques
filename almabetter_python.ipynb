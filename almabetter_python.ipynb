{
  "nbformat": 4,
  "nbformat_minor": 0,
  "metadata": {
    "colab": {
      "provenance": [],
      "authorship_tag": "ABX9TyOsq5xsjTVWB79QaQw+IAxJ",
      "include_colab_link": true
    },
    "kernelspec": {
      "name": "python3",
      "display_name": "Python 3"
    },
    "language_info": {
      "name": "python"
    }
  },
  "cells": [
    {
      "cell_type": "markdown",
      "metadata": {
        "id": "view-in-github",
        "colab_type": "text"
      },
      "source": [
        "<a href=\"https://colab.research.google.com/github/AKASHPATI007/Almabetter-python-ques/blob/main/almabetter_python.ipynb\" target=\"_parent\"><img src=\"https://colab.research.google.com/assets/colab-badge.svg\" alt=\"Open In Colab\"/></a>"
      ]
    },
    {
      "cell_type": "markdown",
      "source": [
        "**Almabetter Python Questions**"
      ],
      "metadata": {
        "id": "1j-X9IelmPvT"
      }
    },
    {
      "cell_type": "markdown",
      "source": [
        "**Week- 1**"
      ],
      "metadata": {
        "id": "TV5I3up-mKIT"
      }
    },
    {
      "cell_type": "markdown",
      "source": [
        "*Day-2*"
      ],
      "metadata": {
        "id": "VHFYWotvnRDM"
      }
    },
    {
      "cell_type": "code",
      "source": [
        "# Swap two numbers---i/p--a=9,b=2---o/p--value of a is : 9 , value of b is : 2\n",
        "# After swapping-value of a is : 2, value of b is : 9\n",
        "# Write a Python program to swap two number without using third variable.\n",
        "\n",
        "a=int(input())\n",
        "b=int(input())\n",
        "print(\"value of a is :\",a)\n",
        "print(\"value of b is :\",b)\n",
        "\n",
        "a= a-b\n",
        "b= a+b\n",
        "a= b-a\n",
        "print(\"After swapping\")\n",
        "print (\"value of a is : \",a)\n",
        "print(\"value of b is : \",b)\n"
      ],
      "metadata": {
        "colab": {
          "base_uri": "https://localhost:8080/"
        },
        "id": "zREfeLeZmqf4",
        "outputId": "24c0d129-fa89-42df-a674-54169445e357"
      },
      "execution_count": null,
      "outputs": [
        {
          "output_type": "stream",
          "name": "stdout",
          "text": [
            "9\n",
            "2\n",
            "value of a is : 9\n",
            "value of b is : 2\n",
            "After swapping\n",
            "value of a is :  2\n",
            "value of b is :  9\n"
          ]
        }
      ]
    },
    {
      "cell_type": "code",
      "source": [
        "# Perfect Number\n",
        "# Write a python program to check a given number is perfect or not.\n",
        "# A perfect number is a positive integer that is equal to the sum of its positive divisors, excluding the number itself.\n",
        "# 6 is a positive number and its divisor is 1,2,3 and 6 itself.  1+2+3 = 6 which is equal to number itself.It means 6 is a Perfect Number.\n",
        "\n",
        "num = int(input())\n",
        "sum = 0\n",
        "for i in range(1,num):\n",
        "  if (num%i ==0):\n",
        "    sum = sum+i\n",
        "if num == sum:\n",
        "    print(\"It is Perfect Number\")\n",
        "else:\n",
        "    print(\"It is not Perfect Number\")"
      ],
      "metadata": {
        "colab": {
          "base_uri": "https://localhost:8080/"
        },
        "id": "_2TYhISPngh_",
        "outputId": "9b689fff-e4a9-40fa-d92c-a972c7f00f11"
      },
      "execution_count": null,
      "outputs": [
        {
          "output_type": "stream",
          "name": "stdout",
          "text": [
            "28\n",
            "It is Perfect Number\n"
          ]
        }
      ]
    },
    {
      "cell_type": "code",
      "source": [
        "# String Palindrome---Input:madam, Output:String is a Palindrome\n",
        "# Write a Python program to check whether a String is Palindrome or not?\n",
        "\n",
        "string = input()\n",
        "if string == string[::-1]:\n",
        "  print(\"String is a Palindrome\")\n",
        "else:\n",
        "  print(\"String is not a Palindrome\")"
      ],
      "metadata": {
        "colab": {
          "base_uri": "https://localhost:8080/"
        },
        "id": "eD7lGIixoLQh",
        "outputId": "faec4181-1d1c-42f0-f3c0-a7b8f9b40d55"
      },
      "execution_count": null,
      "outputs": [
        {
          "output_type": "stream",
          "name": "stdout",
          "text": [
            "madam\n",
            "String is a Palindrome\n"
          ]
        }
      ]
    },
    {
      "cell_type": "code",
      "source": [
        "# Find last position of substring\n",
        "# Write a python program to find the last position of a given substring.\n",
        "# Input:Emma is a data scientist who knows Python. Emma works at google.Emma\n",
        "# Output:Last occurrence of Emma starts at index 43\n",
        "\n",
        "str1 =input()\n",
        "substr=input()\n",
        "index = str1.rfind(substr)\n",
        "print(\"Last occurrence of\", substr, \"starts at index\", index)"
      ],
      "metadata": {
        "colab": {
          "base_uri": "https://localhost:8080/"
        },
        "id": "U1Q9YI28omHq",
        "outputId": "8101173e-b189-42f2-9b3d-9b6bb47c643a"
      },
      "execution_count": null,
      "outputs": [
        {
          "output_type": "stream",
          "name": "stdout",
          "text": [
            "Emma is a data scientist who knows Python. Emma works at google\n",
            "Emma\n",
            "Last occurrence of Emma starts at index 43\n"
          ]
        }
      ]
    },
    {
      "cell_type": "code",
      "source": [
        "# Remove char. from string\n",
        "# Write a python program to remove a given character from string.\n",
        "# Input:AlmaBetter , t----Output: almabe er\n",
        "\n",
        "str = input()\n",
        "ch = input()\n",
        "str = str.replace(ch,' ')\n",
        "print(str.lower())"
      ],
      "metadata": {
        "colab": {
          "base_uri": "https://localhost:8080/"
        },
        "id": "dSaV2UYsomC0",
        "outputId": "b1e961c1-1f97-4944-fa11-e87344f17ec6"
      },
      "execution_count": null,
      "outputs": [
        {
          "output_type": "stream",
          "name": "stdout",
          "text": [
            "AlmaBetter\n",
            "B\n",
            "alma etter\n"
          ]
        }
      ]
    },
    {
      "cell_type": "markdown",
      "source": [
        "*Day-4*"
      ],
      "metadata": {
        "id": "aPTzrARZl_ou"
      }
    },
    {
      "cell_type": "code",
      "source": [
        "# Left triangle alphabet pattern-1\n",
        "# Write a program in python to print the following pattern for the given N number of rows.\n",
        "#The left alphabet triangle pattern is a triangle pattern that is made of alphabets and has perpendicular on its left side.\n",
        "\n",
        "n=int(input())\n",
        "for i in range(n):\n",
        "  for j in range(i+1):\n",
        "    print(chr(j+65), end=\"\")\n",
        "  print()"
      ],
      "metadata": {
        "colab": {
          "base_uri": "https://localhost:8080/"
        },
        "id": "H5R6c_78l-_P",
        "outputId": "36d9637f-e227-4e49-800e-e68ad23fe316"
      },
      "execution_count": 1,
      "outputs": [
        {
          "output_type": "stream",
          "name": "stdout",
          "text": [
            "3\n",
            "A\n",
            "AB\n",
            "ABC\n"
          ]
        }
      ]
    },
    {
      "cell_type": "code",
      "source": [
        "# Left triangle number pattern-2\n",
        "# Write a program in python to print the following pattern for the given N number of rows.\n",
        "# The left number triangle pattern is a triangle pattern that is made of numbers and has perpendicular on its left side.\n",
        "\n",
        "n=int(input())\n",
        "i=1\n",
        "while i<=n:\n",
        "  j=1\n",
        "  while j<=i:\n",
        "    if i==1:\n",
        "      print(1,end=\"\")\n",
        "    elif j==1 or j==i:\n",
        "      print(i-1,end=\"\")\n",
        "    else:\n",
        "      print(0,end=\"\")\n",
        "    j=j+1\n",
        "  print()\n",
        "  i=i+1"
      ],
      "metadata": {
        "colab": {
          "base_uri": "https://localhost:8080/"
        },
        "id": "7qQCw5oamnvF",
        "outputId": "e3abfe69-873c-4c41-a1d2-2e3d81ed5775"
      },
      "execution_count": 2,
      "outputs": [
        {
          "output_type": "stream",
          "name": "stdout",
          "text": [
            "4\n",
            "1\n",
            "11\n",
            "202\n",
            "3003\n"
          ]
        }
      ]
    },
    {
      "cell_type": "code",
      "source": [
        "# Square alphabet pattern-2\n",
        "# Write a program in python to print the following pattern for the given N number of rows.\n",
        "# The square alphabet pattern is the easiest pattern program.\n",
        "# It is a pattern that has the shape of a square made of alphabets. Since it is a square, it is very easy to create and print.\n",
        "\n",
        "n=int(input())\n",
        "for i in range(n):\n",
        "  for j in range(n):\n",
        "    print(chr(ord('A')+i+j),end=\"\")\n",
        "  print()"
      ],
      "metadata": {
        "colab": {
          "base_uri": "https://localhost:8080/"
        },
        "id": "j2CdptbRm-9O",
        "outputId": "e344fe72-990e-4ccc-fd42-1f247fa2dd55"
      },
      "execution_count": 3,
      "outputs": [
        {
          "output_type": "stream",
          "name": "stdout",
          "text": [
            "5\n",
            "ABCDE\n",
            "BCDEF\n",
            "CDEFG\n",
            "DEFGH\n",
            "EFGHI\n"
          ]
        }
      ]
    },
    {
      "cell_type": "code",
      "source": [
        "# Left downward triangle number pattern-2\n",
        "#Write a program in python to print the following pattern for the given N number of rows.\n",
        "# The left downward triangle pattern is the pattern of a triangle upside down. It is also sometimes known as inverted number pattern.\n",
        "\n",
        "n=int(input())\n",
        "for i in range(n,0,-1):\n",
        "  for j in range(0,i):\n",
        "    print(n,end=\"\")\n",
        "  print()"
      ],
      "metadata": {
        "colab": {
          "base_uri": "https://localhost:8080/"
        },
        "id": "iKgSiD-QnX6G",
        "outputId": "73834e12-3a45-4f47-848b-59cf5b7b3138"
      },
      "execution_count": 4,
      "outputs": [
        {
          "output_type": "stream",
          "name": "stdout",
          "text": [
            "4\n",
            "4444\n",
            "444\n",
            "44\n",
            "4\n"
          ]
        }
      ]
    },
    {
      "cell_type": "code",
      "source": [
        "# Right triangle number pattern-2\n",
        "# Write a program in python to print the following pattern for the given N number of rows.\n",
        "\n",
        "n = int(input())\n",
        "for i in range(n):\n",
        "  for j in range(n-i-1):\n",
        "    print(\" \",end=\"\")\n",
        "  for k in range(i+1):\n",
        "    print(i-k+1,end=\"\")\n",
        "  print()"
      ],
      "metadata": {
        "colab": {
          "base_uri": "https://localhost:8080/"
        },
        "id": "oE5IqmVznmc1",
        "outputId": "b266c02a-e876-4e3c-974b-393e28bf35fa"
      },
      "execution_count": 5,
      "outputs": [
        {
          "output_type": "stream",
          "name": "stdout",
          "text": [
            "4\n",
            "   1\n",
            "  21\n",
            " 321\n",
            "4321\n"
          ]
        }
      ]
    },
    {
      "cell_type": "markdown",
      "source": [
        "**Week-2**\n",
        "\n",
        "*Day-2*"
      ],
      "metadata": {
        "id": "n-vgOgUCMguf"
      }
    },
    {
      "cell_type": "code",
      "source": [
        "# Search Insert Position---i/p--nums = [1,3,5,6],target = 5---o/p--2\n",
        "# Given a sorted array of distinct integers and a target value, \n",
        "#write a python program to return the index if the target is found. \n",
        "#If not, return the index where it would be if it were inserted in order.\n",
        "\n",
        "nums= eval(input())\n",
        "target= int(input())\n",
        "def searchInsert(nums, target):\n",
        "    if target in nums:\n",
        "        print(nums.index(target))\n",
        "    else:\n",
        "        lst= nums\n",
        "        lst.append(target)\n",
        "        lst = sorted(lst)\n",
        "        print(lst.index(target))\n",
        "searchInsert(nums, target)"
      ],
      "metadata": {
        "colab": {
          "base_uri": "https://localhost:8080/"
        },
        "id": "V2ndz2nIMquW",
        "outputId": "de1b6c05-9aa7-42ae-df21-9ca2f973badf"
      },
      "execution_count": null,
      "outputs": [
        {
          "output_type": "stream",
          "name": "stdout",
          "text": [
            "1,3,5,6\n",
            "5\n",
            "2\n"
          ]
        }
      ]
    },
    {
      "cell_type": "code",
      "source": [
        "# Single Number--i/p--nums = [2,2,1]--o/p--1\n",
        "# Given a non-empty array of integers nums, every element appears twice except for one. \n",
        "# Write a python program to find that single one.\n",
        "\n",
        "nums=eval(input())\n",
        "def singleNumber(nums):\n",
        "    from collections import Counter\n",
        "    counter = Counter(nums)\n",
        "    single_dict = {key: value for (key, value) in counter.items() if value == 1}\n",
        "    print(list(single_dict.keys())[0])\n",
        "singleNumber(nums)"
      ],
      "metadata": {
        "colab": {
          "base_uri": "https://localhost:8080/"
        },
        "id": "ufQQ-tg22DfJ",
        "outputId": "ddb97944-ac85-4195-ece5-fa3033e0bed8"
      },
      "execution_count": null,
      "outputs": [
        {
          "output_type": "stream",
          "name": "stdout",
          "text": [
            "2,2,1\n",
            "1\n"
          ]
        }
      ]
    },
    {
      "cell_type": "code",
      "source": [
        "# Find K Closest Elements---i/p--arr = [1,2,3,4,5],k = 4,x = 3---o/p--[1, 2, 3, 4]\n",
        "# Given a sorted integer array arr, two integers k and x,\n",
        "# write a python program to return the k closest integers to x in the array. The result should also be sorted in ascending order.\n",
        "#An integer a is closer to x than an integer b if:\n",
        "#- |a - x| < |b - x|, or - |a - x| == |b - x| and a < b\n",
        "\n",
        "arr=eval(input())\n",
        "k=int(input())\n",
        "x=int(input())\n",
        "def findClosestElements(arr, k, x):\n",
        "  left,right = 0, len(arr)-k\n",
        "  while left <right:\n",
        "    mid = (left + right)//2\n",
        "    if x - arr[mid] > arr[mid+k]-x:\n",
        "      left = mid+1\n",
        "    else:\n",
        "      right = mid\n",
        "  return arr[left:left+k]\n",
        "\n",
        "result = findClosestElements(arr, k, x)\n",
        "\n",
        "print(result)"
      ],
      "metadata": {
        "colab": {
          "base_uri": "https://localhost:8080/"
        },
        "id": "vbGvq2Ty2qga",
        "outputId": "5e45b6e9-93c3-4bf6-ec83-252e6ed822c1"
      },
      "execution_count": null,
      "outputs": [
        {
          "output_type": "stream",
          "name": "stdout",
          "text": [
            "1,2,3,4,5\n",
            "4\n",
            "3\n",
            "(1, 2, 3, 4)\n"
          ]
        }
      ]
    },
    {
      "cell_type": "code",
      "source": [
        "#Next Greater Element\n",
        "# The next greater element of some element x in an array is the first greater element that is to the right of x in the same array.\n",
        "# You are given two distinct 0-indexed integer arrays nums1 and nums2, where nums1 is a subset of nums2.\n",
        "# For each 0 <= i < nums1.length, find the index j such that nums1[i] == nums2[j] and determine the next greater element of nums2[j] in nums2.\n",
        "# If there is no next greater element, then the answer for this query is -1.\n",
        "# Write a python program to return an array ans of length nums1.length such that ans[i] is the next greater element as described above.\n",
        "#example-\n",
        "# Input:nums1 = [4,1,2],nums2 = [1,3,4,2]----Output:[-1,3,-1]\n",
        "#Explanation:\n",
        "# The next greater element for each value of nums1 is as follows:\n",
        "#4 is underlined in nums2 = [1,3,4,2]. There is no next greater element, so the answer is -1.\n",
        "#1 is underlined in nums2 = [1,3,4,2]. The next greater element is 3.\n",
        "#2 is underlined in nums2 = [1,3,4,2]. There is no next greater element, so the answer is -1.\n",
        "\n",
        "nums1 = eval(input())\n",
        "nums2 = eval(input())\n",
        "def nextGreaterElement(nums1, nums2):\n",
        "    result = []\n",
        "    for i in nums1:\n",
        "        index = nums2.index(i)\n",
        "        if index < len(nums2) - 1 and nums2[index+1] > i:\n",
        "            result.append(nums2[index+1])\n",
        "        else:\n",
        "            result.append(-1)\n",
        "    return result\n",
        "print(nextGreaterElement(nums1, nums2))"
      ],
      "metadata": {
        "colab": {
          "base_uri": "https://localhost:8080/"
        },
        "id": "6DSYQ-BQ3Vj6",
        "outputId": "a6f0c1e9-76b0-4825-b74d-77bdf2e2a052"
      },
      "execution_count": null,
      "outputs": [
        {
          "output_type": "stream",
          "name": "stdout",
          "text": [
            "4,1,2\n",
            "1,2,3,4\n",
            "[-1, 2, 3]\n"
          ]
        }
      ]
    },
    {
      "cell_type": "markdown",
      "source": [
        "*Day-4*"
      ],
      "metadata": {
        "id": "dSQGy84a1hAW"
      }
    },
    {
      "cell_type": "code",
      "source": [
        "# Partition Array Into Three Parts With Equal Sum\n",
        "# Given an array of integers arr, \n",
        "# write a python program to return true if we can partition the array into three non-empty parts with equal sums.\n",
        "# Formally, we can partition the array if we can find indexes i + 1 < j with (arr[0] + arr[1] + ... + arr[i] == arr[i + 1] + arr[i + 2] + ... + arr[j - 1] == arr[j] + arr[j + 1] + ... + arr[arr.length - 1])\n",
        "# Input:arr = [0,2,1,-6,6,-7,9,1,2,0,1],Output:True\n",
        "# Explanation:0 + 2 + 1 = -6 + 6 - 7 + 9 + 1 = 2 + 0 + 1\n",
        "\n",
        "arr=eval(input())\n",
        "def canThreePartsEqualSum(arr):\n",
        "\n",
        "    total_sum = sum(arr)\n",
        "    if total_sum % 3 != 0:  # if the total sum is not divisible by 3, we cannot partition the array\n",
        "        return False\n",
        "    target_sum = total_sum // 3  # each partition should have this target sum\n",
        "    current_sum = 0  # initialize the current sum to 0\n",
        "    partitions = 0  # we need to find 3 partitions\n",
        "    for num in arr:\n",
        "        current_sum += num\n",
        "        if current_sum == target_sum:  # if we have found a partition, reset the current sum and increment the partitions count\n",
        "            current_sum = 0\n",
        "            partitions += 1\n",
        "    return partitions == 3 and current_sum == 0  # return True if we found 3 partitions and the current sum is 0\n",
        "result =canThreePartsEqualSum(arr)\n",
        "print(result)"
      ],
      "metadata": {
        "colab": {
          "base_uri": "https://localhost:8080/"
        },
        "id": "5CqeXE5E1kW2",
        "outputId": "585eec24-e9b7-454d-d89e-2e4ff51a5310"
      },
      "execution_count": null,
      "outputs": [
        {
          "output_type": "stream",
          "name": "stdout",
          "text": [
            "0,2,1,-6,6,-7,9,1,2,0,1\n",
            "True\n"
          ]
        }
      ]
    },
    {
      "cell_type": "code",
      "source": [
        "# Intersection of Two Arrays---i/p--nums1 = [1,2,2,1],nums2 = [2,2]---o/p--[2]\n",
        "#Given two integer arrays nums1 and nums2, write a python program to return an array of their intersection. \n",
        "#Each element in the result must be unique and you may return the result in any order.\n",
        "\n",
        "set1=eval(input())\n",
        "set2=eval(input())\n",
        "def set_intersection(set1, set2):\n",
        "\n",
        "    set11 = set(set1)\n",
        "    set22 = set(set2)\n",
        "    return list(set11 & set22)  # use the intersection operator on the sets and convert the result back to a list\n",
        "result =set_intersection(set1, set2)\n",
        "print(result)"
      ],
      "metadata": {
        "colab": {
          "base_uri": "https://localhost:8080/"
        },
        "id": "ttahjGkQDqT4",
        "outputId": "f2f6bbf0-f1be-4d25-fc2d-02542317a56e"
      },
      "execution_count": null,
      "outputs": [
        {
          "output_type": "stream",
          "name": "stdout",
          "text": [
            "1,2,2,1\n",
            "2,2\n",
            "[2]\n"
          ]
        }
      ]
    },
    {
      "cell_type": "code",
      "source": [
        "# Majority Element---i/p--nums = [3,2,3]---o/p--3\n",
        "# Given an array nums of size n, write a python program to return the majority element.\n",
        "# The majority element is the element that appears more than ⌊n / 2⌋ times. You may assume that the majority element always exists in the array.\n",
        "\n",
        "nums=eval(input())\n",
        "def majority_element(nums):\n",
        "    counts = {}\n",
        "    majority_count = len(nums) // 2\n",
        "    \n",
        "    # count occurrences of each element\n",
        "    for num in nums:\n",
        "        if num in counts:\n",
        "            counts[num] += 1\n",
        "        else:\n",
        "            counts[num] = 1\n",
        "    \n",
        "    # find element with highest count\n",
        "    for num, count in counts.items():\n",
        "        if count > majority_count:\n",
        "            return num\n",
        "    \n",
        "    # majority element not found\n",
        "    return None\n",
        "\n",
        "result = majority_element(nums)\n",
        "print(result)"
      ],
      "metadata": {
        "colab": {
          "base_uri": "https://localhost:8080/"
        },
        "id": "q87aLfjyEdgw",
        "outputId": "2bd0b36b-6e82-4b53-b2a9-8cc56b310c6f"
      },
      "execution_count": null,
      "outputs": [
        {
          "output_type": "stream",
          "name": "stdout",
          "text": [
            "3,2,3\n",
            "3\n"
          ]
        }
      ]
    },
    {
      "cell_type": "code",
      "source": [
        "# Degree of an Array--i/p-nums = [1,2,2,3,1]--o/p-2\n",
        "# Given a non-empty array of non-negative integers nums, the degree of this array is defined as the maximum frequency of any one of its elements.\n",
        "# Write a python program to find the smallest possible length of a (contiguous) subarray of nums, that has the same degree as nums.\n",
        "# explaination--The input array has a degree of 2 because both elements 1 and 2 appear twice.\n",
        "#Of the subarrays that have the same degree:\n",
        "#[1, 2, 2, 3, 1], [1, 2, 2, 3], [2, 2, 3, 1], [1, 2, 2], [2, 2, 3], [2, 2]\n",
        "#The shortest length is 2. So return 2.\n",
        "\n",
        "nums=eval(input())\n",
        "def find_shortest_subarray(nums):\n",
        "    freq = {}\n",
        "    degree = 0\n",
        "    \n",
        "    # count frequency of each element\n",
        "    for i, num in enumerate(nums):\n",
        "        if num in freq:\n",
        "            freq[num][0] += 1\n",
        "            freq[num][2] = i\n",
        "        else:\n",
        "            freq[num] = [1, i, i]\n",
        "        degree = max(degree, freq[num][0])\n",
        "    \n",
        "    # find shortest subarray with degree elements\n",
        "    shortest = float('inf')\n",
        "    for num, (count, left, right) in freq.items():\n",
        "        if count == degree:\n",
        "            shortest = min(shortest, right - left + 1)\n",
        "    return shortest\n",
        "\n",
        "result=find_shortest_subarray(nums)\n",
        "print(result)\n"
      ],
      "metadata": {
        "id": "8Lnoigc5E08q"
      },
      "execution_count": null,
      "outputs": []
    },
    {
      "cell_type": "code",
      "source": [
        "# Find Closest Number to Zero---i/p-nums = [-4,-2,1,4,8]---o/p-1\n",
        "# Given an integer array nums of size n, write a python program to return the number with the value closest to 0 in nums. \n",
        "# If there are multiple answers, return the number with the largest value.\n",
        "#Explanation:\n",
        "#The distance from -4 to 0 is |-4| = 4.\n",
        "# The distance from -2 to 0 is |-2| = 2.\n",
        "#The distance from 1 to 0 is |1| = 1.\n",
        "#The distance from 4 to 0 is |4| = 4.\n",
        "#The distance from 8 to 0 is |8| = 8.\n",
        "#Thus, the closest number to 0 in the array is 1.\n",
        "\n",
        "nums=eval(input())\n",
        "def closest_numbers(nums):\n",
        "\n",
        "    closest_num = float('inf')  # initialize to positive infinity\n",
        "    for num in nums:\n",
        "        if abs(num) < abs(closest_num):  # if the current number is closer to 0 than the closest number found so far\n",
        "            closest_num = num\n",
        "        elif abs(num) == abs(closest_num) and num > closest_num:  # if there are multiple answers, return the largest value\n",
        "            closest_num = num\n",
        "    return closest_num\n",
        "result = closest_numbers(nums)\n",
        "print(result)\n"
      ],
      "metadata": {
        "id": "M1HQo2ZLFaHh"
      },
      "execution_count": null,
      "outputs": []
    },
    {
      "cell_type": "markdown",
      "source": [
        "*Day 6*"
      ],
      "metadata": {
        "id": "ptrlyppzMMaK"
      }
    },
    {
      "cell_type": "code",
      "source": [
        "# Largest Perimeter Triangle --i/p--nums = [2,1,2]--o/p--5\n",
        "# Given an integer array nums, write a python program to return the largest perimeter of a triangle with a non-zero area, formed from three of these lengths.\n",
        "# If it is impossible to form any triangle of a non-zero area, return 0.\n",
        "\n",
        "A=eval(input())\n",
        "def largestPerimeter(A):\n",
        "    A.sort(reverse=True)\n",
        "    for i in range(len(A) - 2):\n",
        "        for j in range(i + 1, len(A) - 1):\n",
        "            for k in range(j + 1, len(A)):\n",
        "                if A[i] < A[j] + A[k]:\n",
        "                    return A[i] + A[j] + A[k]\n",
        "    return 0\n",
        "\n",
        "print(largestPerimeter(A))"
      ],
      "metadata": {
        "colab": {
          "base_uri": "https://localhost:8080/",
          "height": 339
        },
        "id": "fgrcq77TMLHN",
        "outputId": "90bbb07d-2dbe-4500-9fbf-74fdd250fc7d"
      },
      "execution_count": null,
      "outputs": [
        {
          "name": "stdout",
          "output_type": "stream",
          "text": [
            "2,1,2\n"
          ]
        },
        {
          "output_type": "error",
          "ename": "AttributeError",
          "evalue": "ignored",
          "traceback": [
            "\u001b[0;31m---------------------------------------------------------------------------\u001b[0m",
            "\u001b[0;31mAttributeError\u001b[0m                            Traceback (most recent call last)",
            "\u001b[0;32m<ipython-input-2-3ec2a161a32e>\u001b[0m in \u001b[0;36m<cell line: 15>\u001b[0;34m()\u001b[0m\n\u001b[1;32m     13\u001b[0m     \u001b[0;32mreturn\u001b[0m \u001b[0;36m0\u001b[0m\u001b[0;34m\u001b[0m\u001b[0;34m\u001b[0m\u001b[0m\n\u001b[1;32m     14\u001b[0m \u001b[0;34m\u001b[0m\u001b[0m\n\u001b[0;32m---> 15\u001b[0;31m \u001b[0mprint\u001b[0m\u001b[0;34m(\u001b[0m\u001b[0mlargestPerimeter\u001b[0m\u001b[0;34m(\u001b[0m\u001b[0mA\u001b[0m\u001b[0;34m)\u001b[0m\u001b[0;34m)\u001b[0m\u001b[0;34m\u001b[0m\u001b[0;34m\u001b[0m\u001b[0m\n\u001b[0m",
            "\u001b[0;32m<ipython-input-2-3ec2a161a32e>\u001b[0m in \u001b[0;36mlargestPerimeter\u001b[0;34m(A)\u001b[0m\n\u001b[1;32m      5\u001b[0m \u001b[0mA\u001b[0m\u001b[0;34m=\u001b[0m\u001b[0meval\u001b[0m\u001b[0;34m(\u001b[0m\u001b[0minput\u001b[0m\u001b[0;34m(\u001b[0m\u001b[0;34m)\u001b[0m\u001b[0;34m)\u001b[0m\u001b[0;34m\u001b[0m\u001b[0;34m\u001b[0m\u001b[0m\n\u001b[1;32m      6\u001b[0m \u001b[0;32mdef\u001b[0m \u001b[0mlargestPerimeter\u001b[0m\u001b[0;34m(\u001b[0m\u001b[0mA\u001b[0m\u001b[0;34m)\u001b[0m\u001b[0;34m:\u001b[0m\u001b[0;34m\u001b[0m\u001b[0;34m\u001b[0m\u001b[0m\n\u001b[0;32m----> 7\u001b[0;31m     \u001b[0mA\u001b[0m\u001b[0;34m.\u001b[0m\u001b[0msort\u001b[0m\u001b[0;34m(\u001b[0m\u001b[0mreverse\u001b[0m\u001b[0;34m=\u001b[0m\u001b[0;32mTrue\u001b[0m\u001b[0;34m)\u001b[0m\u001b[0;34m\u001b[0m\u001b[0;34m\u001b[0m\u001b[0m\n\u001b[0m\u001b[1;32m      8\u001b[0m     \u001b[0;32mfor\u001b[0m \u001b[0mi\u001b[0m \u001b[0;32min\u001b[0m \u001b[0mrange\u001b[0m\u001b[0;34m(\u001b[0m\u001b[0mlen\u001b[0m\u001b[0;34m(\u001b[0m\u001b[0mA\u001b[0m\u001b[0;34m)\u001b[0m \u001b[0;34m-\u001b[0m \u001b[0;36m2\u001b[0m\u001b[0;34m)\u001b[0m\u001b[0;34m:\u001b[0m\u001b[0;34m\u001b[0m\u001b[0;34m\u001b[0m\u001b[0m\n\u001b[1;32m      9\u001b[0m         \u001b[0;32mfor\u001b[0m \u001b[0mj\u001b[0m \u001b[0;32min\u001b[0m \u001b[0mrange\u001b[0m\u001b[0;34m(\u001b[0m\u001b[0mi\u001b[0m \u001b[0;34m+\u001b[0m \u001b[0;36m1\u001b[0m\u001b[0;34m,\u001b[0m \u001b[0mlen\u001b[0m\u001b[0;34m(\u001b[0m\u001b[0mA\u001b[0m\u001b[0;34m)\u001b[0m \u001b[0;34m-\u001b[0m \u001b[0;36m1\u001b[0m\u001b[0;34m)\u001b[0m\u001b[0;34m:\u001b[0m\u001b[0;34m\u001b[0m\u001b[0;34m\u001b[0m\u001b[0m\n",
            "\u001b[0;31mAttributeError\u001b[0m: 'tuple' object has no attribute 'sort'"
          ]
        }
      ]
    },
    {
      "cell_type": "code",
      "source": [
        "# Plus One---i/p--digits = [1,2,3]---o/p--[1, 2, 4]\n",
        "# You are given a large integer represented as an integer array digits, where each digits[i] is the ith digit of the integer. \n",
        "# The digits are ordered from most significant to least significant in left-to-right order. The large integer does not contain any leading 0's.\n",
        "# Write a python program to increment the large integer by one and return the resulting array of digits.\n",
        "# Explanation:The array represents the integer 123. Incrementing by one gives 123 + 1 = 124. Thus, the result should be [1,2,4].\n",
        "\n",
        "digits=eval(input())\n",
        "def plusOne(digits):\n",
        "  number_string = ''\n",
        "  for i in digits:\n",
        "    number_string = number_string + str(i)\n",
        "  number_integer = int(number_string)\n",
        "  new_number_integer = number_integer + 1\n",
        "  new_number_string = str(new_number_integer)\n",
        "  \n",
        "  lst = []\n",
        "  for i in new_number_string:\n",
        "    lst.append(int(i))\n",
        "  return lst\n",
        "print(plusOne(digits))\n"
      ],
      "metadata": {
        "colab": {
          "base_uri": "https://localhost:8080/"
        },
        "id": "bGRTKAblNHCr",
        "outputId": "f3a7760b-fe97-4e3c-a4cf-42e16669008e"
      },
      "execution_count": null,
      "outputs": [
        {
          "output_type": "stream",
          "name": "stdout",
          "text": [
            "1,2,3\n",
            "[1, 2, 4]\n"
          ]
        }
      ]
    },
    {
      "cell_type": "code",
      "source": [
        "# Kth Missing Positive Number---i/p--arr = [2,3,4,7,11],k = 5--o/p--9\n",
        "# Given an array arr of positive integers sorted in a strictly increasing order, and an integer k.\n",
        "# Write a python program to return the kth positive integer that is missing from this array.\n",
        "# Explanation: The missing positive integers are [1,5,6,8,9,10,12,13,...]. The 5th missing positive integer is 9.\n",
        "\n",
        "arr=eval(input())\n",
        "k=int(input())\n",
        "def findKthPositive(arr, k):\n",
        "  positive_integers = []\n",
        "  for i in range(1,max(arr)+11):\n",
        "    positive_integers.append(i)\n",
        "\n",
        "  required_list = []\n",
        "  for j in positive_integers:\n",
        "    if j in arr:\n",
        "      pass\n",
        "    else:\n",
        "      required_list.append(j)\n",
        "\n",
        "  return required_list[k-1]\n",
        "print(findKthPositive(arr, k))"
      ],
      "metadata": {
        "colab": {
          "base_uri": "https://localhost:8080/"
        },
        "id": "hgt6L-DiNzOV",
        "outputId": "d82642d2-ff0c-4481-cdc2-25198380d88d"
      },
      "execution_count": null,
      "outputs": [
        {
          "output_type": "stream",
          "name": "stdout",
          "text": [
            "2,3,4,7,11\n",
            "5\n",
            "9\n"
          ]
        }
      ]
    },
    {
      "cell_type": "code",
      "source": [
        "# Sort Array By Parity---i/p--[3,1,2,4]---o/p--[2, 4, 3, 1]\n",
        "# Given an integer array nums, move all the even integers at the beginning of the array followed by all the odd integers.\n",
        "# Write a python program to return any array that satisfies this condition.\n",
        "# Explanation:The outputs [4,2,3,1], [2,4,1,3], and [4,2,1,3] would also be accepted.\n",
        "\n",
        "A=eval(input())\n",
        "def sortArrayByParity(A):\n",
        "  even = []\n",
        "  odd = []\n",
        "  for i in A:\n",
        "    if i%2 == 0:\n",
        "      even.append(i)\n",
        "    else:\n",
        "      odd.append(i)\n",
        "  req_list = even + odd\n",
        "  return req_list\n",
        "print(sortArrayByParity(A))\n",
        "\n"
      ],
      "metadata": {
        "colab": {
          "base_uri": "https://localhost:8080/"
        },
        "id": "s6NksWInOZyX",
        "outputId": "ff57e8e2-160e-4d4a-cef4-af176b07a4bc"
      },
      "execution_count": null,
      "outputs": [
        {
          "output_type": "stream",
          "name": "stdout",
          "text": [
            "3,1,2,4\n",
            "[2, 4, 3, 1]\n"
          ]
        }
      ]
    },
    {
      "cell_type": "code",
      "source": [
        "# Fair Candy Swap\n",
        "# Alice and Bob have a different total number of candies. You are given two integer arrays aliceSizes and bobSizes where aliceSizes[i] is the number of candies of the ith box of candy that Alice has and bobSizes[j] is the number of candies of the jth box of candy that Bob has.\n",
        "# Since they are friends, they would like to exchange one candy box each so that after the exchange, they both have the same total amount of candy. The total amount of candy a person has is the sum of the number of candies in each box they have.\n",
        "# Write a python program to return an integer array answer where answer[0] is the number of candies in the box that Alice must exchange, and answer[1] is the number of candies in the box that Bob must exchange. If there are multiple answers, you may return any one of them. It is guaranteed that at least one answer exists.\n",
        "# Input:aliceSizes = [1,1],bobSizes = [2, 2]--Output:[1, 2]\n",
        "\n",
        "aliceSizes=eval(input())\n",
        "bobSizes= eval(input())\n",
        "def fairCandySwap(aliceSizes, bobSizes):\n",
        "  aliceTotal = sum(aliceSizes)\n",
        "  bobTotal = sum(bobSizes)\n",
        "  target = (aliceTotal + bobTotal) // 2  \n",
        "\n",
        "  aliceSet = set(aliceSizes) \n",
        "\n",
        "  for bobCandy in bobSizes:\n",
        "    aliceCandy = target - (bobTotal - bobCandy)\n",
        "    if aliceCandy in aliceSet:\n",
        "      return [aliceCandy, bobCandy]\n",
        "\n",
        "print(fairCandySwap(aliceSizes, bobSizes))"
      ],
      "metadata": {
        "colab": {
          "base_uri": "https://localhost:8080/"
        },
        "id": "wBaUkEB6O7Ju",
        "outputId": "4dc27889-0150-4f8e-9833-d24d39d4b285"
      },
      "execution_count": null,
      "outputs": [
        {
          "output_type": "stream",
          "name": "stdout",
          "text": [
            "1,1\n",
            "2,2\n",
            "[1, 2]\n"
          ]
        }
      ]
    },
    {
      "cell_type": "markdown",
      "source": [
        "**Week-3**\n",
        "\n"
      ],
      "metadata": {
        "id": "LSBlQ4zgi0Gf"
      }
    },
    {
      "cell_type": "markdown",
      "source": [
        "Day-6"
      ],
      "metadata": {
        "id": "pztJxYfHDlyG"
      }
    },
    {
      "cell_type": "code",
      "source": [
        "# Check Palindrome\n",
        "# Write a Python program using recursion to write a function that returns true if the given number is palindrome, else false.\n",
        "# Input:12321--- output:Yes\n",
        "\n",
        "v = str(input())\n",
        "def check_palindrome(v):\n",
        "  if len(v) <= 1:\n",
        "    return 'Yes'\n",
        "  if v[0] == v[-1]:\n",
        "    return check_palindrome(v[1:-1])\n",
        "  else:\n",
        "    return 'No'\n",
        "print(check_palindrome(v))\n",
        "\n"
      ],
      "metadata": {
        "colab": {
          "base_uri": "https://localhost:8080/"
        },
        "id": "NblguuvoDpkv",
        "outputId": "97bc971d-902e-4efb-eeec-4ff3eaf6b3be"
      },
      "execution_count": null,
      "outputs": [
        {
          "output_type": "stream",
          "name": "stdout",
          "text": [
            "12321\n",
            "Yes\n"
          ]
        }
      ]
    },
    {
      "cell_type": "code",
      "source": [
        "# Sum triangle from array\n",
        "# Given an array of integers, using recusive Python technique, print a sum triangle from it such that the first level has all array elements. \n",
        "# From then, at each level number of elements is one less than the previous level and \n",
        "# elements at the level is be the Sum of consecutive two elements in the previous level.\n",
        "\n",
        "# Input:[1, 2, 3, 4, 5]----Output:[48] [20, 28] [8, 12, 16] [3, 5, 7, 9] [1, 2, 3, 4, 5]\n",
        "\n",
        "arr = eval(input())\n",
        "def printTriangle(arr):\n",
        "  n = len(arr)\n",
        "  if n == 1:\n",
        "    print([arr[0]])\n",
        "    return\n",
        "  new_arr = []\n",
        "  for i in range(n-1):\n",
        "    new_arr.append(arr[i] + arr[i+1])\n",
        "  printTriangle(new_arr)\n",
        "  print(arr)\n",
        "print(printTriangle(arr))"
      ],
      "metadata": {
        "colab": {
          "base_uri": "https://localhost:8080/"
        },
        "id": "I3ReVy0rEOeD",
        "outputId": "b7f8f794-525f-4a34-f9bc-c92997761221"
      },
      "execution_count": null,
      "outputs": [
        {
          "output_type": "stream",
          "name": "stdout",
          "text": [
            "1, 2, 3, 4, 5\n",
            "[48]\n",
            "[20, 28]\n",
            "[8, 12, 16]\n",
            "[3, 5, 7, 9]\n",
            "(1, 2, 3, 4, 5)\n",
            "None\n"
          ]
        }
      ]
    },
    {
      "cell_type": "code",
      "source": [
        "# Find the min (or max)\n",
        "# Given an array, write recursive functions in Python to find the minimum and maximum elements in it.\n",
        "# Input:[12, 1234, 45, 67, 1]-----Output:Minimum element of array: 1 ,Maximum element of array: 1234\n",
        "\n",
        "arr = eval(input())\n",
        "n = len(arr)\n",
        "def getMin(arr, n):\n",
        "  print(f\"Minimum element of array: {min(arr)}\")\n",
        "  print(f\"Maximum element of array: {max(arr)}\")\n",
        "print(getMin(arr, n))"
      ],
      "metadata": {
        "colab": {
          "base_uri": "https://localhost:8080/"
        },
        "id": "JxdNS4LiE4QR",
        "outputId": "8e9232f3-2f29-463b-e8eb-0c7e5bfe67e9"
      },
      "execution_count": null,
      "outputs": [
        {
          "output_type": "stream",
          "name": "stdout",
          "text": [
            "12, 1234, 45, 67, 1\n",
            "Minimum element of array: 1\n",
            "Maximum element of array: 1234\n",
            "None\n"
          ]
        }
      ]
    },
    {
      "cell_type": "code",
      "source": [
        "# Function to copy string\n",
        "# Given two strings, write a python program to copy one string to other using recursion.\n",
        "# Input:s1 = \"hello\",s2 = \"almabetter\"--Output:hello\n",
        "\n",
        "x = str(input())\n",
        "y = str(input())\n",
        "def copy_str(x,y):\n",
        "  return x\n",
        "print(copy_str(x,y))\n"
      ],
      "metadata": {
        "colab": {
          "base_uri": "https://localhost:8080/"
        },
        "id": "_CnwJDjKFXEv",
        "outputId": "cd8473ff-0688-4e90-a7f9-d45567d52f6c"
      },
      "execution_count": null,
      "outputs": [
        {
          "output_type": "stream",
          "name": "stdout",
          "text": [
            "hello\n",
            "almabetter\n",
            "hello\n"
          ]
        }
      ]
    },
    {
      "cell_type": "code",
      "source": [
        "# Count consonants in a string\n",
        "# Given a string, write a python program using recursion to count total number of consonants in it.\n",
        "# A consonant is a English alphabet character that is not vowel (a, e, i, o and u). Examples of constants are b, c, d, f, g, ..\n",
        "# Input:abc de---Output:3\n",
        "\n",
        "string = input()\n",
        "def isConsonant(string):\n",
        "  if string == \"\":\n",
        "    return 0\n",
        "  elif string[0].isalpha() and string[0].lower() not in \"aeiou\":\n",
        "    return 1 + isConsonant(string[1:])\n",
        "  else:\n",
        "    return isConsonant(string[1:])\n",
        "print(isConsonant(string))\n"
      ],
      "metadata": {
        "colab": {
          "base_uri": "https://localhost:8080/"
        },
        "id": "BeukuyycGG-Q",
        "outputId": "1d8ff9a5-a526-4c06-d9f8-735e8ba75977"
      },
      "execution_count": null,
      "outputs": [
        {
          "output_type": "stream",
          "name": "stdout",
          "text": [
            "abc de\n",
            "3\n"
          ]
        }
      ]
    },
    {
      "cell_type": "markdown",
      "source": [
        "*Day-4*"
      ],
      "metadata": {
        "id": "3yoky7cuDgAz"
      }
    },
    {
      "cell_type": "code",
      "execution_count": null,
      "metadata": {
        "colab": {
          "base_uri": "https://localhost:8080/"
        },
        "id": "S2Rro3PvtR9C",
        "outputId": "e21797f0-8b6c-4cc4-c37c-985ee6dfc5b4"
      },
      "outputs": [
        {
          "output_type": "stream",
          "name": "stdout",
          "text": [
            "3254\n",
            "14\n"
          ]
        }
      ],
      "source": [
        "# Write a Python program using recursion to get the sum of a non-negative integer. ex---i/p-345--o/p-12\n",
        "n=int(input())\n",
        "def sumDigits(n):\n",
        "  if n == 0:\n",
        "    return 0\n",
        "  else:\n",
        "    return n % 10 + sumDigits(n // 10)\n",
        "print(sumDigits(n))"
      ]
    },
    {
      "cell_type": "code",
      "source": [
        "# Write a Python program to calculate the sum of the positive integers of n+(n-2)+(n-4)... (until n-x =< 0) using recursion\n",
        "# ex- i/p-6, o/p-12\n",
        "n=int(input())\n",
        "def sum_series(n):\n",
        "  if n <= 0:\n",
        "    return 0\n",
        "  else:\n",
        "    return n + sum_series(n-2)\n",
        "print(sum_series(n))"
      ],
      "metadata": {
        "id": "WlPJZVOEuda7"
      },
      "execution_count": null,
      "outputs": []
    },
    {
      "cell_type": "code",
      "source": [
        "# Write a Python program using recursion to calculate the geometric sum of n-1.--ex--i/p-7--o/p-1.992187\n",
        "#Note : In mathematics, a geometric series is a series with a constant ratio between successive terms.\n",
        "n=int(input())\n",
        "def geometric_sum(n):\n",
        "  if n < 0:\n",
        "    return 0\n",
        "  else:\n",
        "    return 1 / (2**n) + geometric_sum(n - 1)\n",
        "print(geometric_sum(n))"
      ],
      "metadata": {
        "colab": {
          "base_uri": "https://localhost:8080/"
        },
        "id": "2BZOEcvxvP6p",
        "outputId": "82298648-a88f-4bf9-fa57-5f33456346db"
      },
      "execution_count": null,
      "outputs": [
        {
          "output_type": "stream",
          "name": "stdout",
          "text": [
            "7\n",
            "1.9921875\n"
          ]
        }
      ]
    },
    {
      "cell_type": "code",
      "source": [
        "# Calculate a^b\n",
        "#Write a Python program using recursion to calculate the value of 'a' to the power 'b'.\n",
        "#Test Data: (power(3,4) -> 81\n",
        "a=int(input())\n",
        "b=int(input())\n",
        "def power(a,b):\n",
        "  if b == 0:\n",
        "    return 1\n",
        "  else:\n",
        "    return a * power(a, b - 1)\n",
        "print(power(a,b))"
      ],
      "metadata": {
        "colab": {
          "base_uri": "https://localhost:8080/"
        },
        "id": "sNA2p7jIv4c7",
        "outputId": "16e63a60-c78e-4db8-fe0c-71d09c13ec03"
      },
      "execution_count": null,
      "outputs": [
        {
          "output_type": "stream",
          "name": "stdout",
          "text": [
            "4\n",
            "5\n",
            "1024\n"
          ]
        }
      ]
    },
    {
      "cell_type": "code",
      "source": [
        "# Greatest Common Divisor\n",
        "#Write a Python program using recursion to find the greatest common divisor (gcd) of two integers.\n",
        "a=int(input())\n",
        "b=int(input())\n",
        "def Recurgcd(a, b):\n",
        "    if b == 0:\n",
        "        return a\n",
        "    else:\n",
        "        return Recurgcd(b, a % b)\n",
        "print(Recurgcd(a,b))"
      ],
      "metadata": {
        "colab": {
          "base_uri": "https://localhost:8080/"
        },
        "id": "5ikBbyZ4wMgL",
        "outputId": "c447b583-4cb6-40e7-8830-51e6950be8ab"
      },
      "execution_count": null,
      "outputs": [
        {
          "output_type": "stream",
          "name": "stdout",
          "text": [
            "5\n",
            "8\n",
            "1\n"
          ]
        }
      ]
    },
    {
      "cell_type": "markdown",
      "source": [
        "*Day2*"
      ],
      "metadata": {
        "id": "9RmHkV8HiyRp"
      }
    },
    {
      "cell_type": "code",
      "source": [
        "#Sum of list of numbers--ex--i/p-[2, 4, 5, 6, 7]--o/p-24\n",
        "#Write a Python program using recursion to calculate the sum of a list of numbers.\n",
        "num_List=eval(input())\n",
        "def list_sum(num_List):\n",
        "  if len(num_List) == 0:\n",
        "        return 0\n",
        "  else:\n",
        "    return num_List[0] + list_sum(num_List[1:])\n",
        "print(list_sum(num_List))"
      ],
      "metadata": {
        "colab": {
          "base_uri": "https://localhost:8080/"
        },
        "id": "vy4xeVEUjEy1",
        "outputId": "5edc76df-84f6-4213-a3f9-086d0e430744"
      },
      "execution_count": null,
      "outputs": [
        {
          "output_type": "stream",
          "name": "stdout",
          "text": [
            "3,4,5,6\n",
            "18\n"
          ]
        }
      ]
    },
    {
      "cell_type": "code",
      "source": [
        "# Convert integer to string. ---ex--i/p-Input: 2835--  16 ---Output:B13\n",
        "#Write a Python program using recursion, converting an integer to a string in any base.\n",
        "n=int(input())\n",
        "base=int(input())\n",
        "def to_string(n,base):\n",
        "  digits = \"0123456789ABCDEF\"\n",
        "  if n < base:\n",
        "    return digits[n]\n",
        "  else:\n",
        "    return to_string(n // base, base) + digits[n % base]\n",
        "print(to_string(n,base))"
      ],
      "metadata": {
        "colab": {
          "base_uri": "https://localhost:8080/"
        },
        "id": "_RfNGOjsjqLK",
        "outputId": "f1a15312-5e5e-4d53-dc29-abc791f8fa51"
      },
      "execution_count": null,
      "outputs": [
        {
          "output_type": "stream",
          "name": "stdout",
          "text": [
            "2835\n",
            "16\n",
            "B13\n"
          ]
        }
      ]
    },
    {
      "cell_type": "code",
      "source": [
        "#Recursion list sum.--i/p- [1, 2, [3,4],[5,6]]-- o/p-21\n",
        "#Write a Python program of recursion list sum.\n",
        "data_list=eval(input())\n",
        "def recursive_list_sum(data_list):\n",
        "  total = 0\n",
        "  for item in data_list:\n",
        "    if isinstance(item, list):\n",
        "      total += recursive_list_sum(item)\n",
        "    else:\n",
        "      total += item\n",
        "  return total\n",
        "print(recursive_list_sum(data_list))"
      ],
      "metadata": {
        "colab": {
          "base_uri": "https://localhost:8080/"
        },
        "id": "R6kGG4NLkXk8",
        "outputId": "c74dfc20-dbb7-400d-dcfd-e8198a0e0fe0"
      },
      "execution_count": null,
      "outputs": [
        {
          "output_type": "stream",
          "name": "stdout",
          "text": [
            "2,4,5,6,67\n",
            "84\n"
          ]
        }
      ]
    },
    {
      "cell_type": "code",
      "source": [
        "# Find factorial - -i/p-5 ---o/p-120\n",
        "# Write a Python program to get the factorial of a non-negative integer using recursion.\n",
        "n=int(input()) \n",
        "def factorial(n):\n",
        "  if n==1:\n",
        "    return 1\n",
        "  else:\n",
        "    return n*factorial(n-1)\n",
        "print(factorial(n))"
      ],
      "metadata": {
        "colab": {
          "base_uri": "https://localhost:8080/"
        },
        "id": "d7756kf_k10y",
        "outputId": "83698099-859c-457f-aaf9-7bec5d5b3714"
      },
      "execution_count": null,
      "outputs": [
        {
          "output_type": "stream",
          "name": "stdout",
          "text": [
            "5\n",
            "120\n"
          ]
        }
      ]
    },
    {
      "cell_type": "code",
      "source": [
        "# Fibonacci series--The sequence follows the rule that each number is equal to the sum of the preceding two numbers. \n",
        "#The Fibonacci sequence begins with the following 14 integers: 0, 1, 1, 2, 3, 5, 8, \n",
        "# Write a Python program to solve the Fibonacci sequence using recursion.\n",
        "n=int(input())\n",
        "def fibonacci(n):\n",
        "    if n <= 0:\n",
        "        return 0\n",
        "    elif n == 1:\n",
        "        return 1\n",
        "    else:\n",
        "        return fibonacci(n-1) + fibonacci(n-2)\n",
        "print(fibonacci(n))"
      ],
      "metadata": {
        "colab": {
          "base_uri": "https://localhost:8080/"
        },
        "id": "JMksJ7XGpVdk",
        "outputId": "7bcad0a7-a502-4744-cd2d-431c79a27e74"
      },
      "execution_count": null,
      "outputs": [
        {
          "output_type": "stream",
          "name": "stdout",
          "text": [
            "7\n",
            "13\n"
          ]
        }
      ]
    }
  ]
}