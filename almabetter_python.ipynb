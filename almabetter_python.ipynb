{
  "nbformat": 4,
  "nbformat_minor": 0,
  "metadata": {
    "colab": {
      "provenance": [],
      "authorship_tag": "ABX9TyPetYB54Oi/+qfMgAcxffn7",
      "include_colab_link": true
    },
    "kernelspec": {
      "name": "python3",
      "display_name": "Python 3"
    },
    "language_info": {
      "name": "python"
    }
  },
  "cells": [
    {
      "cell_type": "markdown",
      "metadata": {
        "id": "view-in-github",
        "colab_type": "text"
      },
      "source": [
        "<a href=\"https://colab.research.google.com/github/AKASHPATI007/Almabetter-python-ques/blob/main/almabetter_python.ipynb\" target=\"_parent\"><img src=\"https://colab.research.google.com/assets/colab-badge.svg\" alt=\"Open In Colab\"/></a>"
      ]
    },
    {
      "cell_type": "markdown",
      "source": [
        "**Week-2**\n",
        "\n",
        "*Day-2*"
      ],
      "metadata": {
        "id": "n-vgOgUCMguf"
      }
    },
    {
      "cell_type": "code",
      "source": [
        "# Search Insert Position---i/p--nums = [1,3,5,6],target = 5---o/p--2\n",
        "# Given a sorted array of distinct integers and a target value, \n",
        "#write a python program to return the index if the target is found. \n",
        "#If not, return the index where it would be if it were inserted in order.\n",
        "\n",
        "nums= eval(input())\n",
        "target= int(input())\n",
        "def searchInsert(nums, target):\n",
        "    if target in nums:\n",
        "        print(nums.index(target))\n",
        "    else:\n",
        "        lst= nums\n",
        "        lst.append(target)\n",
        "        lst = sorted(lst)\n",
        "        print(lst.index(target))\n",
        "searchInsert(nums, target)"
      ],
      "metadata": {
        "colab": {
          "base_uri": "https://localhost:8080/"
        },
        "id": "V2ndz2nIMquW",
        "outputId": "de1b6c05-9aa7-42ae-df21-9ca2f973badf"
      },
      "execution_count": 2,
      "outputs": [
        {
          "output_type": "stream",
          "name": "stdout",
          "text": [
            "1,3,5,6\n",
            "5\n",
            "2\n"
          ]
        }
      ]
    },
    {
      "cell_type": "code",
      "source": [
        "# Single Number--i/p--nums = [2,2,1]--o/p--1\n",
        "# Given a non-empty array of integers nums, every element appears twice except for one. \n",
        "# Write a python program to find that single one.\n",
        "\n",
        "nums=eval(input())\n",
        "def singleNumber(nums):\n",
        "    from collections import Counter\n",
        "    counter = Counter(nums)\n",
        "    single_dict = {key: value for (key, value) in counter.items() if value == 1}\n",
        "    print(list(single_dict.keys())[0])\n",
        "singleNumber(nums)"
      ],
      "metadata": {
        "colab": {
          "base_uri": "https://localhost:8080/"
        },
        "id": "ufQQ-tg22DfJ",
        "outputId": "ddb97944-ac85-4195-ece5-fa3033e0bed8"
      },
      "execution_count": 3,
      "outputs": [
        {
          "output_type": "stream",
          "name": "stdout",
          "text": [
            "2,2,1\n",
            "1\n"
          ]
        }
      ]
    },
    {
      "cell_type": "code",
      "source": [
        "# Find K Closest Elements---i/p--arr = [1,2,3,4,5],k = 4,x = 3---o/p--[1, 2, 3, 4]\n",
        "# Given a sorted integer array arr, two integers k and x,\n",
        "# write a python program to return the k closest integers to x in the array. The result should also be sorted in ascending order.\n",
        "#An integer a is closer to x than an integer b if:\n",
        "#- |a - x| < |b - x|, or - |a - x| == |b - x| and a < b\n",
        "\n",
        "arr=eval(input())\n",
        "k=int(input())\n",
        "x=int(input())\n",
        "def findClosestElements(arr, k, x):\n",
        "  left,right = 0, len(arr)-k\n",
        "  while left <right:\n",
        "    mid = (left + right)//2\n",
        "    if x - arr[mid] > arr[mid+k]-x:\n",
        "      left = mid+1\n",
        "    else:\n",
        "      right = mid\n",
        "  return arr[left:left+k]\n",
        "\n",
        "result = findClosestElements(arr, k, x)\n",
        "\n",
        "print(result)"
      ],
      "metadata": {
        "colab": {
          "base_uri": "https://localhost:8080/"
        },
        "id": "vbGvq2Ty2qga",
        "outputId": "5e45b6e9-93c3-4bf6-ec83-252e6ed822c1"
      },
      "execution_count": 4,
      "outputs": [
        {
          "output_type": "stream",
          "name": "stdout",
          "text": [
            "1,2,3,4,5\n",
            "4\n",
            "3\n",
            "(1, 2, 3, 4)\n"
          ]
        }
      ]
    },
    {
      "cell_type": "code",
      "source": [
        "#Next Greater Element\n",
        "# The next greater element of some element x in an array is the first greater element that is to the right of x in the same array.\n",
        "# You are given two distinct 0-indexed integer arrays nums1 and nums2, where nums1 is a subset of nums2.\n",
        "# For each 0 <= i < nums1.length, find the index j such that nums1[i] == nums2[j] and determine the next greater element of nums2[j] in nums2.\n",
        "# If there is no next greater element, then the answer for this query is -1.\n",
        "# Write a python program to return an array ans of length nums1.length such that ans[i] is the next greater element as described above.\n",
        "#example-\n",
        "# Input:nums1 = [4,1,2],nums2 = [1,3,4,2]----Output:[-1,3,-1]\n",
        "#Explanation:\n",
        "# The next greater element for each value of nums1 is as follows:\n",
        "#4 is underlined in nums2 = [1,3,4,2]. There is no next greater element, so the answer is -1.\n",
        "#1 is underlined in nums2 = [1,3,4,2]. The next greater element is 3.\n",
        "#2 is underlined in nums2 = [1,3,4,2]. There is no next greater element, so the answer is -1.\n",
        "\n",
        "nums1 = eval(input())\n",
        "nums2 = eval(input())\n",
        "def nextGreaterElement(nums1, nums2):\n",
        "    result = []\n",
        "    for i in nums1:\n",
        "        index = nums2.index(i)\n",
        "        if index < len(nums2) - 1 and nums2[index+1] > i:\n",
        "            result.append(nums2[index+1])\n",
        "        else:\n",
        "            result.append(-1)\n",
        "    return result\n",
        "print(nextGreaterElement(nums1, nums2))"
      ],
      "metadata": {
        "colab": {
          "base_uri": "https://localhost:8080/"
        },
        "id": "6DSYQ-BQ3Vj6",
        "outputId": "a6f0c1e9-76b0-4825-b74d-77bdf2e2a052"
      },
      "execution_count": 5,
      "outputs": [
        {
          "output_type": "stream",
          "name": "stdout",
          "text": [
            "4,1,2\n",
            "1,2,3,4\n",
            "[-1, 2, 3]\n"
          ]
        }
      ]
    },
    {
      "cell_type": "markdown",
      "source": [
        "*Day-4*"
      ],
      "metadata": {
        "id": "dSQGy84a1hAW"
      }
    },
    {
      "cell_type": "code",
      "source": [
        "# Partition Array Into Three Parts With Equal Sum\n",
        "# Given an array of integers arr, \n",
        "# write a python program to return true if we can partition the array into three non-empty parts with equal sums.\n",
        "# Formally, we can partition the array if we can find indexes i + 1 < j with (arr[0] + arr[1] + ... + arr[i] == arr[i + 1] + arr[i + 2] + ... + arr[j - 1] == arr[j] + arr[j + 1] + ... + arr[arr.length - 1])\n",
        "# Input:arr = [0,2,1,-6,6,-7,9,1,2,0,1],Output:True\n",
        "# Explanation:0 + 2 + 1 = -6 + 6 - 7 + 9 + 1 = 2 + 0 + 1\n",
        "\n",
        "arr=eval(input())\n",
        "def canThreePartsEqualSum(arr):\n",
        "\n",
        "    total_sum = sum(arr)\n",
        "    if total_sum % 3 != 0:  # if the total sum is not divisible by 3, we cannot partition the array\n",
        "        return False\n",
        "    target_sum = total_sum // 3  # each partition should have this target sum\n",
        "    current_sum = 0  # initialize the current sum to 0\n",
        "    partitions = 0  # we need to find 3 partitions\n",
        "    for num in arr:\n",
        "        current_sum += num\n",
        "        if current_sum == target_sum:  # if we have found a partition, reset the current sum and increment the partitions count\n",
        "            current_sum = 0\n",
        "            partitions += 1\n",
        "    return partitions == 3 and current_sum == 0  # return True if we found 3 partitions and the current sum is 0\n",
        "result =canThreePartsEqualSum(arr)\n",
        "print(result)"
      ],
      "metadata": {
        "colab": {
          "base_uri": "https://localhost:8080/"
        },
        "id": "5CqeXE5E1kW2",
        "outputId": "585eec24-e9b7-454d-d89e-2e4ff51a5310"
      },
      "execution_count": 7,
      "outputs": [
        {
          "output_type": "stream",
          "name": "stdout",
          "text": [
            "0,2,1,-6,6,-7,9,1,2,0,1\n",
            "True\n"
          ]
        }
      ]
    },
    {
      "cell_type": "markdown",
      "source": [
        "**Week-3**\n",
        "\n",
        "*Day-4*"
      ],
      "metadata": {
        "id": "LSBlQ4zgi0Gf"
      }
    },
    {
      "cell_type": "code",
      "execution_count": null,
      "metadata": {
        "colab": {
          "base_uri": "https://localhost:8080/"
        },
        "id": "S2Rro3PvtR9C",
        "outputId": "e21797f0-8b6c-4cc4-c37c-985ee6dfc5b4"
      },
      "outputs": [
        {
          "output_type": "stream",
          "name": "stdout",
          "text": [
            "3254\n",
            "14\n"
          ]
        }
      ],
      "source": [
        "# Write a Python program using recursion to get the sum of a non-negative integer. ex---i/p-345--o/p-12\n",
        "n=int(input())\n",
        "def sumDigits(n):\n",
        "  if n == 0:\n",
        "    return 0\n",
        "  else:\n",
        "    return n % 10 + sumDigits(n // 10)\n",
        "print(sumDigits(n))"
      ]
    },
    {
      "cell_type": "code",
      "source": [
        "# Write a Python program to calculate the sum of the positive integers of n+(n-2)+(n-4)... (until n-x =< 0) using recursion\n",
        "# ex- i/p-6, o/p-12\n",
        "n=int(input())\n",
        "def sum_series(n):\n",
        "  if n <= 0:\n",
        "    return 0\n",
        "  else:\n",
        "    return n + sum_series(n-2)\n",
        "print(sum_series(n))"
      ],
      "metadata": {
        "id": "WlPJZVOEuda7"
      },
      "execution_count": null,
      "outputs": []
    },
    {
      "cell_type": "code",
      "source": [
        "# Write a Python program using recursion to calculate the geometric sum of n-1.--ex--i/p-7--o/p-1.992187\n",
        "#Note : In mathematics, a geometric series is a series with a constant ratio between successive terms.\n",
        "n=int(input())\n",
        "def geometric_sum(n):\n",
        "  if n < 0:\n",
        "    return 0\n",
        "  else:\n",
        "    return 1 / (2**n) + geometric_sum(n - 1)\n",
        "print(geometric_sum(n))"
      ],
      "metadata": {
        "colab": {
          "base_uri": "https://localhost:8080/"
        },
        "id": "2BZOEcvxvP6p",
        "outputId": "82298648-a88f-4bf9-fa57-5f33456346db"
      },
      "execution_count": null,
      "outputs": [
        {
          "output_type": "stream",
          "name": "stdout",
          "text": [
            "7\n",
            "1.9921875\n"
          ]
        }
      ]
    },
    {
      "cell_type": "code",
      "source": [
        "# Calculate a^b\n",
        "#Write a Python program using recursion to calculate the value of 'a' to the power 'b'.\n",
        "#Test Data: (power(3,4) -> 81\n",
        "a=int(input())\n",
        "b=int(input())\n",
        "def power(a,b):\n",
        "  if b == 0:\n",
        "    return 1\n",
        "  else:\n",
        "    return a * power(a, b - 1)\n",
        "print(power(a,b))"
      ],
      "metadata": {
        "colab": {
          "base_uri": "https://localhost:8080/"
        },
        "id": "sNA2p7jIv4c7",
        "outputId": "16e63a60-c78e-4db8-fe0c-71d09c13ec03"
      },
      "execution_count": null,
      "outputs": [
        {
          "output_type": "stream",
          "name": "stdout",
          "text": [
            "4\n",
            "5\n",
            "1024\n"
          ]
        }
      ]
    },
    {
      "cell_type": "code",
      "source": [
        "# Greatest Common Divisor\n",
        "#Write a Python program using recursion to find the greatest common divisor (gcd) of two integers.\n",
        "a=int(input())\n",
        "b=int(input())\n",
        "def Recurgcd(a, b):\n",
        "    if b == 0:\n",
        "        return a\n",
        "    else:\n",
        "        return Recurgcd(b, a % b)\n",
        "print(Recurgcd(a,b))"
      ],
      "metadata": {
        "colab": {
          "base_uri": "https://localhost:8080/"
        },
        "id": "5ikBbyZ4wMgL",
        "outputId": "c447b583-4cb6-40e7-8830-51e6950be8ab"
      },
      "execution_count": null,
      "outputs": [
        {
          "output_type": "stream",
          "name": "stdout",
          "text": [
            "5\n",
            "8\n",
            "1\n"
          ]
        }
      ]
    },
    {
      "cell_type": "markdown",
      "source": [
        "*Day2*"
      ],
      "metadata": {
        "id": "9RmHkV8HiyRp"
      }
    },
    {
      "cell_type": "code",
      "source": [
        "#Sum of list of numbers--ex--i/p-[2, 4, 5, 6, 7]--o/p-24\n",
        "#Write a Python program using recursion to calculate the sum of a list of numbers.\n",
        "num_List=eval(input())\n",
        "def list_sum(num_List):\n",
        "  if len(num_List) == 0:\n",
        "        return 0\n",
        "  else:\n",
        "    return num_List[0] + list_sum(num_List[1:])\n",
        "print(list_sum(num_List))"
      ],
      "metadata": {
        "colab": {
          "base_uri": "https://localhost:8080/"
        },
        "id": "vy4xeVEUjEy1",
        "outputId": "5edc76df-84f6-4213-a3f9-086d0e430744"
      },
      "execution_count": null,
      "outputs": [
        {
          "output_type": "stream",
          "name": "stdout",
          "text": [
            "3,4,5,6\n",
            "18\n"
          ]
        }
      ]
    },
    {
      "cell_type": "code",
      "source": [
        "# Convert integer to string. ---ex--i/p-Input: 2835--  16 ---Output:B13\n",
        "#Write a Python program using recursion, converting an integer to a string in any base.\n",
        "n=int(input())\n",
        "base=int(input())\n",
        "def to_string(n,base):\n",
        "  digits = \"0123456789ABCDEF\"\n",
        "  if n < base:\n",
        "    return digits[n]\n",
        "  else:\n",
        "    return to_string(n // base, base) + digits[n % base]\n",
        "print(to_string(n,base))"
      ],
      "metadata": {
        "colab": {
          "base_uri": "https://localhost:8080/"
        },
        "id": "_RfNGOjsjqLK",
        "outputId": "f1a15312-5e5e-4d53-dc29-abc791f8fa51"
      },
      "execution_count": null,
      "outputs": [
        {
          "output_type": "stream",
          "name": "stdout",
          "text": [
            "2835\n",
            "16\n",
            "B13\n"
          ]
        }
      ]
    },
    {
      "cell_type": "code",
      "source": [
        "#Recursion list sum.--i/p- [1, 2, [3,4],[5,6]]-- o/p-21\n",
        "#Write a Python program of recursion list sum.\n",
        "data_list=eval(input())\n",
        "def recursive_list_sum(data_list):\n",
        "  total = 0\n",
        "  for item in data_list:\n",
        "    if isinstance(item, list):\n",
        "      total += recursive_list_sum(item)\n",
        "    else:\n",
        "      total += item\n",
        "  return total\n",
        "print(recursive_list_sum(data_list))"
      ],
      "metadata": {
        "colab": {
          "base_uri": "https://localhost:8080/"
        },
        "id": "R6kGG4NLkXk8",
        "outputId": "c74dfc20-dbb7-400d-dcfd-e8198a0e0fe0"
      },
      "execution_count": null,
      "outputs": [
        {
          "output_type": "stream",
          "name": "stdout",
          "text": [
            "2,4,5,6,67\n",
            "84\n"
          ]
        }
      ]
    },
    {
      "cell_type": "code",
      "source": [
        "# Find factorial - -i/p-5 ---o/p-120\n",
        "# Write a Python program to get the factorial of a non-negative integer using recursion.\n",
        "n=int(input()) \n",
        "def factorial(n):\n",
        "  if n==1:\n",
        "    return 1\n",
        "  else:\n",
        "    return n*factorial(n-1)\n",
        "print(factorial(n))"
      ],
      "metadata": {
        "colab": {
          "base_uri": "https://localhost:8080/"
        },
        "id": "d7756kf_k10y",
        "outputId": "83698099-859c-457f-aaf9-7bec5d5b3714"
      },
      "execution_count": null,
      "outputs": [
        {
          "output_type": "stream",
          "name": "stdout",
          "text": [
            "5\n",
            "120\n"
          ]
        }
      ]
    },
    {
      "cell_type": "code",
      "source": [
        "# Fibonacci series--The sequence follows the rule that each number is equal to the sum of the preceding two numbers. \n",
        "#The Fibonacci sequence begins with the following 14 integers: 0, 1, 1, 2, 3, 5, 8, \n",
        "# Write a Python program to solve the Fibonacci sequence using recursion.\n",
        "n=int(input())\n",
        "def fibonacci(n):\n",
        "    if n <= 0:\n",
        "        return 0\n",
        "    elif n == 1:\n",
        "        return 1\n",
        "    else:\n",
        "        return fibonacci(n-1) + fibonacci(n-2)\n",
        "print(fibonacci(n))"
      ],
      "metadata": {
        "colab": {
          "base_uri": "https://localhost:8080/"
        },
        "id": "JMksJ7XGpVdk",
        "outputId": "7bcad0a7-a502-4744-cd2d-431c79a27e74"
      },
      "execution_count": null,
      "outputs": [
        {
          "output_type": "stream",
          "name": "stdout",
          "text": [
            "7\n",
            "13\n"
          ]
        }
      ]
    }
  ]
}