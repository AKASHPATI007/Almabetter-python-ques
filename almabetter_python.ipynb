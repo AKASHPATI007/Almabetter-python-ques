{
  "nbformat": 4,
  "nbformat_minor": 0,
  "metadata": {
    "colab": {
      "provenance": [],
      "authorship_tag": "ABX9TyMXKAnD5iaRPVfQBDvVmS+w",
      "include_colab_link": true
    },
    "kernelspec": {
      "name": "python3",
      "display_name": "Python 3"
    },
    "language_info": {
      "name": "python"
    }
  },
  "cells": [
    {
      "cell_type": "markdown",
      "metadata": {
        "id": "view-in-github",
        "colab_type": "text"
      },
      "source": [
        "<a href=\"https://colab.research.google.com/github/AKASHPATI007/Almabetter-python-ques/blob/main/almabetter_python.ipynb\" target=\"_parent\"><img src=\"https://colab.research.google.com/assets/colab-badge.svg\" alt=\"Open In Colab\"/></a>"
      ]
    },
    {
      "cell_type": "markdown",
      "source": [
        "**Week-3**\n",
        "\n",
        "*Day-4*"
      ],
      "metadata": {
        "id": "LSBlQ4zgi0Gf"
      }
    },
    {
      "cell_type": "code",
      "execution_count": 1,
      "metadata": {
        "colab": {
          "base_uri": "https://localhost:8080/"
        },
        "id": "S2Rro3PvtR9C",
        "outputId": "e21797f0-8b6c-4cc4-c37c-985ee6dfc5b4"
      },
      "outputs": [
        {
          "output_type": "stream",
          "name": "stdout",
          "text": [
            "3254\n",
            "14\n"
          ]
        }
      ],
      "source": [
        "# Write a Python program using recursion to get the sum of a non-negative integer. ex---i/p-345--o/p-12\n",
        "n=int(input())\n",
        "def sumDigits(n):\n",
        "  if n == 0:\n",
        "    return 0\n",
        "  else:\n",
        "    return n % 10 + sumDigits(n // 10)\n",
        "print(sumDigits(n))"
      ]
    },
    {
      "cell_type": "code",
      "source": [
        "# Write a Python program to calculate the sum of the positive integers of n+(n-2)+(n-4)... (until n-x =< 0) using recursion\n",
        "# ex- i/p-6, o/p-12\n",
        "n=int(input())\n",
        "def sum_series(n):\n",
        "  if n <= 0:\n",
        "    return 0\n",
        "  else:\n",
        "    return n + sum_series(n-2)\n",
        "print(sum_series(n))"
      ],
      "metadata": {
        "id": "WlPJZVOEuda7"
      },
      "execution_count": null,
      "outputs": []
    },
    {
      "cell_type": "code",
      "source": [
        "# Write a Python program using recursion to calculate the geometric sum of n-1.--ex--i/p-7--o/p-1.992187\n",
        "#Note : In mathematics, a geometric series is a series with a constant ratio between successive terms.\n",
        "n=int(input())\n",
        "def geometric_sum(n):\n",
        "  if n < 0:\n",
        "    return 0\n",
        "  else:\n",
        "    return 1 / (2**n) + geometric_sum(n - 1)\n",
        "print(geometric_sum(n))"
      ],
      "metadata": {
        "colab": {
          "base_uri": "https://localhost:8080/"
        },
        "id": "2BZOEcvxvP6p",
        "outputId": "82298648-a88f-4bf9-fa57-5f33456346db"
      },
      "execution_count": 3,
      "outputs": [
        {
          "output_type": "stream",
          "name": "stdout",
          "text": [
            "7\n",
            "1.9921875\n"
          ]
        }
      ]
    },
    {
      "cell_type": "code",
      "source": [
        "# Calculate a^b\n",
        "#Write a Python program using recursion to calculate the value of 'a' to the power 'b'.\n",
        "#Test Data: (power(3,4) -> 81\n",
        "a=int(input())\n",
        "b=int(input())\n",
        "def power(a,b):\n",
        "  if b == 0:\n",
        "    return 1\n",
        "  else:\n",
        "    return a * power(a, b - 1)\n",
        "print(power(a,b))"
      ],
      "metadata": {
        "colab": {
          "base_uri": "https://localhost:8080/"
        },
        "id": "sNA2p7jIv4c7",
        "outputId": "16e63a60-c78e-4db8-fe0c-71d09c13ec03"
      },
      "execution_count": 4,
      "outputs": [
        {
          "output_type": "stream",
          "name": "stdout",
          "text": [
            "4\n",
            "5\n",
            "1024\n"
          ]
        }
      ]
    },
    {
      "cell_type": "code",
      "source": [
        "# Greatest Common Divisor\n",
        "#Write a Python program using recursion to find the greatest common divisor (gcd) of two integers.\n",
        "a=int(input())\n",
        "b=int(input())\n",
        "def Recurgcd(a, b):\n",
        "    if b == 0:\n",
        "        return a\n",
        "    else:\n",
        "        return Recurgcd(b, a % b)\n",
        "print(Recurgcd(a,b))"
      ],
      "metadata": {
        "colab": {
          "base_uri": "https://localhost:8080/"
        },
        "id": "5ikBbyZ4wMgL",
        "outputId": "c447b583-4cb6-40e7-8830-51e6950be8ab"
      },
      "execution_count": 5,
      "outputs": [
        {
          "output_type": "stream",
          "name": "stdout",
          "text": [
            "5\n",
            "8\n",
            "1\n"
          ]
        }
      ]
    },
    {
      "cell_type": "markdown",
      "source": [
        "*Day2*"
      ],
      "metadata": {
        "id": "9RmHkV8HiyRp"
      }
    },
    {
      "cell_type": "code",
      "source": [
        "#Sum of list of numbers--ex--i/p-[2, 4, 5, 6, 7]--o/p-24\n",
        "#Write a Python program using recursion to calculate the sum of a list of numbers.\n",
        "num_List=eval(input())\n",
        "def list_sum(num_List):\n",
        "  if len(num_List) == 0:\n",
        "        return 0\n",
        "  else:\n",
        "    return num_List[0] + list_sum(num_List[1:])\n",
        "print(list_sum(num_List))"
      ],
      "metadata": {
        "colab": {
          "base_uri": "https://localhost:8080/"
        },
        "id": "vy4xeVEUjEy1",
        "outputId": "5edc76df-84f6-4213-a3f9-086d0e430744"
      },
      "execution_count": 7,
      "outputs": [
        {
          "output_type": "stream",
          "name": "stdout",
          "text": [
            "3,4,5,6\n",
            "18\n"
          ]
        }
      ]
    },
    {
      "cell_type": "code",
      "source": [
        "# Convert integer to string. ---ex--i/p-Input: 2835--  16 ---Output:B13\n",
        "#Write a Python program using recursion, converting an integer to a string in any base.\n",
        "n=int(input())\n",
        "base=int(input())\n",
        "def to_string(n,base):\n",
        "  digits = \"0123456789ABCDEF\"\n",
        "  if n < base:\n",
        "    return digits[n]\n",
        "  else:\n",
        "    return to_string(n // base, base) + digits[n % base]\n",
        "print(to_string(n,base))"
      ],
      "metadata": {
        "colab": {
          "base_uri": "https://localhost:8080/"
        },
        "id": "_RfNGOjsjqLK",
        "outputId": "f1a15312-5e5e-4d53-dc29-abc791f8fa51"
      },
      "execution_count": 8,
      "outputs": [
        {
          "output_type": "stream",
          "name": "stdout",
          "text": [
            "2835\n",
            "16\n",
            "B13\n"
          ]
        }
      ]
    },
    {
      "cell_type": "code",
      "source": [
        "#Recursion list sum.--i/p- [1, 2, [3,4],[5,6]]-- o/p-21\n",
        "#Write a Python program of recursion list sum.\n",
        "data_list=eval(input())\n",
        "def recursive_list_sum(data_list):\n",
        "  total = 0\n",
        "  for item in data_list:\n",
        "    if isinstance(item, list):\n",
        "      total += recursive_list_sum(item)\n",
        "    else:\n",
        "      total += item\n",
        "  return total\n",
        "print(recursive_list_sum(data_list))"
      ],
      "metadata": {
        "colab": {
          "base_uri": "https://localhost:8080/"
        },
        "id": "R6kGG4NLkXk8",
        "outputId": "c74dfc20-dbb7-400d-dcfd-e8198a0e0fe0"
      },
      "execution_count": 9,
      "outputs": [
        {
          "output_type": "stream",
          "name": "stdout",
          "text": [
            "2,4,5,6,67\n",
            "84\n"
          ]
        }
      ]
    },
    {
      "cell_type": "code",
      "source": [
        "# Find factorial - -i/p-5 ---o/p-120\n",
        "# Write a Python program to get the factorial of a non-negative integer using recursion.\n",
        "n=int(input()) \n",
        "def factorial(n):\n",
        "  if n==1:\n",
        "    return 1\n",
        "  else:\n",
        "    return n*factorial(n-1)\n",
        "print(factorial(n))"
      ],
      "metadata": {
        "colab": {
          "base_uri": "https://localhost:8080/"
        },
        "id": "d7756kf_k10y",
        "outputId": "83698099-859c-457f-aaf9-7bec5d5b3714"
      },
      "execution_count": 10,
      "outputs": [
        {
          "output_type": "stream",
          "name": "stdout",
          "text": [
            "5\n",
            "120\n"
          ]
        }
      ]
    },
    {
      "cell_type": "code",
      "source": [
        "# Fibonacci series--The sequence follows the rule that each number is equal to the sum of the preceding two numbers. \n",
        "#The Fibonacci sequence begins with the following 14 integers: 0, 1, 1, 2, 3, 5, 8, \n",
        "# Write a Python program to solve the Fibonacci sequence using recursion.\n",
        "n=int(input())\n",
        "def fibonacci(n):\n",
        "    if n <= 0:\n",
        "        return 0\n",
        "    elif n == 1:\n",
        "        return 1\n",
        "    else:\n",
        "        return fibonacci(n-1) + fibonacci(n-2)\n",
        "print(fibonacci(n))"
      ],
      "metadata": {
        "colab": {
          "base_uri": "https://localhost:8080/"
        },
        "id": "JMksJ7XGpVdk",
        "outputId": "7bcad0a7-a502-4744-cd2d-431c79a27e74"
      },
      "execution_count": 12,
      "outputs": [
        {
          "output_type": "stream",
          "name": "stdout",
          "text": [
            "7\n",
            "13\n"
          ]
        }
      ]
    }
  ]
}